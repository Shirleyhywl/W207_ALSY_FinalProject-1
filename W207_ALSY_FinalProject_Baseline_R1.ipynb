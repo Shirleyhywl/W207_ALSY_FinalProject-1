{
  "nbformat": 4,
  "nbformat_minor": 0,
  "metadata": {
    "colab": {
      "name": "W207_ALSY_FinalProject_Baseline_R1.ipynb",
      "version": "0.3.2",
      "provenance": [],
      "collapsed_sections": [],
      "toc_visible": true,
      "include_colab_link": true
    },
    "kernelspec": {
      "name": "python3",
      "display_name": "Python 3"
    }
  },
  "cells": [
    {
      "cell_type": "markdown",
      "metadata": {
        "id": "view-in-github",
        "colab_type": "text"
      },
      "source": [
        "<a href=\"https://colab.research.google.com/github/lchutny/W207_ALSY_FinalProject/blob/master/W207_ALSY_FinalProject_Baseline_R1.ipynb\" target=\"_parent\"><img src=\"https://colab.research.google.com/assets/colab-badge.svg\" alt=\"Open In Colab\"/></a>"
      ]
    },
    {
      "cell_type": "markdown",
      "metadata": {
        "id": "b9V1hXKgnTnQ",
        "colab_type": "text"
      },
      "source": [
        "# Final Project W207\n",
        "## Andrew Webb, Laura Chutny, Suzy Choi, Yue Hu\n",
        "\n",
        "# 1. From Kaggle\n",
        "Each predicted keypoint is specified by an (x,y) real-valued pair in the space of pixel indices. There are 15 keypoints, which represent the following elements of the face:\n",
        "\n",
        "left_eye_center  \n",
        "right_eye_center  \n",
        "left_eye_inner_corner  \n",
        "left_eye_outer_corner  \n",
        "right_eye_inner_corner  \n",
        "right_eye_outer_corner  \n",
        "left_eyebrow_inner_end  \n",
        "left_eyebrow_outer_end  \n",
        "right_eyebrow_inner_end  \n",
        "right_eyebrow_outer_end  \n",
        "nose_tip  \n",
        "mouth_left_corner  \n",
        "mouth_right_corner  \n",
        "mouth_center_top_lip  \n",
        "mouth_center_bottom_lip  \n",
        "\n",
        "Left and right here refers to the point of view of the subject.  \n",
        "\n",
        "In some examples, some of the target keypoint positions are missing (encoded as missing entries in the csv, i.e., with nothing between two commas).\n",
        "\n",
        "The input image is given in the last field of the data files, and consists of a list of pixels (ordered by row), as integers in (0,255). The images are 96x96 pixels.\n",
        "\n",
        "#### Data files - have been uploaded to GitHub Repo\n",
        "- training.csv: list of training 7049 images. Each row contains the (x,y) coordinates for 15 keypoints, and image data as row-ordered list of pixels.  \n",
        "- test.csv: list of 1783 test images. Each row contains ImageId and image data as row-ordered list of pixels\n",
        "- submissionFileFormat.csv: list of 27124 keypoints to predict. Each row contains a RowId, ImageId, FeatureName, Location. FeatureName are \"left_eye_center_x,\" \"right_eyebrow_outer_end_y,\" etc. Location is what you need to predict."
      ]
    },
    {
      "cell_type": "markdown",
      "metadata": {
        "id": "1nqq3gpbnYox",
        "colab_type": "text"
      },
      "source": [
        "# 2. Plan\n",
        "1. Data Cleaning\n",
        "- TBD based on the tutorial\n",
        "2. Split data - use training set and split into train, dev and test.\n",
        "\n",
        "3. kNN; MN Naive Bayes; Logistic Regression --> run and compare as base\n",
        "\n",
        "4. Maybe run\n",
        "\n",
        "5. Then learn and run Neural Net to classify"
      ]
    },
    {
      "cell_type": "markdown",
      "metadata": {
        "id": "KTxrxI8kFomY",
        "colab_type": "text"
      },
      "source": [
        "**QUESTIONS / Comments - Laura (July 12/13)**\n",
        "\n",
        "_Per Class Discussions - breakdown the problem:_\n",
        "\n",
        "* In this problem set: Given $X$ - a 96x96 pixel image of a face (a 1 x 9216 vector of pixel values); predict $\\hat Y$ - the x and y coordinates of 15 specific facial keypoints (list above), or alternately fill in the values for missing keypoints where some are given in a test case.\n",
        "\n",
        "* Data given is the labeled (or semi-labeled) images ($X$). This is a supervised learning problem. The labels ($Y$) are continuous values (x,y coordinate pairs - in essence a 15 x 2 array of x,y values for 15 facial keypoints)\n",
        "\n",
        "* Features are the values of the pixels in the image and their relationship to each other (format of the relationship TBD)  \n",
        "  - Commentary on feature engineering - some more research here\n",
        "  - Features (pixels) will be reduced to values between 0 and 1 (vs original 256 grayscale)\n",
        "  - for all models the features will be in a 1 x 9216 except for Convolutional NN which needs them reshaped to a 96x96 matrix\n",
        "  - May want to apply a blur to the images - as per our digit exercise - in order to assist in recognition\n",
        "  - We have a Curse of Dimensionality - very high dimension feature space (9216) and a relatively small number of examples and only 15 features to train on (~2140 complete examples, up to 6000 if we include those only partially labeled). This data is extremely sparse This may mean that multiple hidden layers are better in the Neural net and likely means that other models will fare poorly.\n",
        "  \n",
        "\n",
        "* Model to use: we will try various models - from simiplistic kNN, NaiveBayes and Logistic Regression to compare and to learn about the data. We will move on to Neural Net with various numbers of hidden layers (2? 3? more?). Eventually we will need a convolutional neural net.\n",
        "  - Sigmoid or softmax or other activation? How to decide?\n",
        "  - What *is* a convolutional neural net (cNN): *'The role of the cNN is to reduce the images into a form which is easier to process, without losing features which are critical for getting a good prediction'*\n",
        "  - Why would a cNN be the best model\n",
        "  - Why use RMSE to evaluate model\n",
        "  - What tolerance will the x,y coordinates have to meet to say that they are predicting correctly? (i.e. to what decimal place?)\n",
        "  - Type of pooling to use in pooling layers of CNN - likely max pooling is better (reduces noise)\n",
        "  - then likely add a fully connected layer after the convolational layers to introduce non-linearities\n",
        "  \n",
        "* Issues that may be encountered:  \n",
        "  - Dealing with data that is missing - see point 2 below - and impact on the model\n",
        "  - Images contain a large variation regarding centering and this may impact the behaviour of the model\n",
        "  - As we are dealing with multiple labels, do we do it with an all-or-nothing approach (i.e. predict all 15 labels correctly, or zero), or can we do a 'sliding-scale' of prediction - i.e. the more facial keypoints detected correctly, the higher the score?\n",
        "\n",
        "  \n",
        "* Assumptions:  \n",
        "  - All faces are human and have detectable keypoints\n",
        "  -  ? More\n",
        "  \n",
        "* References:\n",
        "  - https://towardsdatascience.com/a-comprehensive-guide-to-convolutional-neural-networks-the-eli5-way-3bd2b1164a53 - an excellent description of what a CNN is.\n",
        "  \n",
        "  \n",
        "\n",
        "_Questions_\n",
        "\n",
        "1.   What are we predicting on - the kaggle competition indicates we should be predicting the missing x or y coordinate of the specified feature. Where is this file?? (submissionFileFormat.csv)?\n",
        "2. This is a 'multi-label' problem - each example (image) has 15 'labels'. Not all examples have all labels. In the approach above, we have eliminated about half the training data. Once we get to the end, we should go back and revisit this and see if we can improve training by changing this:\n",
        "  *   Train again only on the labels that span the whole training set (4 labels)\n",
        "  *   Reduce the label data using clustering (create new labels) and train again  - not sure how to un-transform the prediction tho\n",
        "3. For the NN - using sigmoid activation may help us in the predictions\n",
        "4. Do we need to shuffle the training data\n",
        "5. In data processing ahead of training - lots to do here:\n",
        "- Deal with images that aren't centered\n",
        "\n",
        "\n"
      ]
    },
    {
      "cell_type": "code",
      "metadata": {
        "id": "3svnTWc0tPum",
        "colab_type": "code",
        "colab": {}
      },
      "source": [
        "from google.colab import drive\n",
        "drive.mount('/content/drive')"
      ],
      "execution_count": 0,
      "outputs": []
    },
    {
      "cell_type": "code",
      "metadata": {
        "id": "194Yt-hBKFqG",
        "colab_type": "code",
        "colab": {}
      },
      "source": [
        "data = pd.read_csv('drive/My Drive/FinalProject_w207/training.csv')"
      ],
      "execution_count": 0,
      "outputs": []
    },
    {
      "cell_type": "markdown",
      "metadata": {
        "id": "2PXOYpA7ncLW",
        "colab_type": "text"
      },
      "source": [
        "# 3. Baseline & Schedule\n",
        "Due Week 10: (July 8)\n",
        "- Plan for project\n",
        "- Do Tutorial\n",
        "- EDA / Cleaning\n",
        "- More detailed plan around project (maybe a pseudocode type plan)\n",
        "- check out Google colab - using this\n",
        "- Theano - install - no need when using colab\n",
        "\n",
        "Week 11/12 (July 15 and 22)\n",
        "July 15 - Office Hours - Andrew - ask questions about package recommendations and discuss document.\n",
        "July 21 - Tentative meeting: 6 PM Pacific, 7 PM Mountain, 8 PM Central, 9 PM Eastern\n",
        "\n",
        "Week 12 - Checkin with Instructor  (July 22)\n",
        "\n",
        "Week 14 - Project due (August 5)\n",
        "\n",
        "--------\n",
        "\n",
        "Week of July 15 - 21\n",
        "  - Finish Kaggle Tutorial & Week 7\n",
        "  - Finish Section 5 - more EDA - Laura\n",
        "  - Finish Section 6 - kNN - Suzy\n",
        "  - Finish Section 7 - Multinomial NB - Yue\n",
        "  - Finish Section 8 - Logistic Regression - Andrew \n",
        "\n",
        "\n",
        "Week of July 22 - 28  \n",
        "  - Running NN #1  - Single and 2 layer\n",
        "  - Running NN #2 - First pass at a convolution layer\n",
        "  - Running NN #3 - Second pass/revision at multiple convolution layers\n",
        "  - Running NN #4 - Final pass - most improved cNN\n",
        "\n",
        "\n",
        "Week of July 29 - August 4  \n",
        "  - xx\n",
        "  - Finish write up \n",
        "\n",
        "\n",
        "\n"
      ]
    },
    {
      "cell_type": "markdown",
      "metadata": {
        "id": "UiNRFDnbmh8J",
        "colab_type": "text"
      },
      "source": [
        "# 4. Setup"
      ]
    },
    {
      "cell_type": "code",
      "metadata": {
        "id": "GRC7KmyqkJfZ",
        "colab_type": "code",
        "outputId": "b597767f-e179-4d62-9eef-ae1ca12976f3",
        "colab": {
          "base_uri": "https://localhost:8080/",
          "height": 51
        }
      },
      "source": [
        "# ADD OTHER IMPORTS HERE AS NECESSARY\n",
        "# This tells matplotlib not to try opening a new window for each plot.\n",
        "%matplotlib inline\n",
        "\n",
        "# General libraries.\n",
        "import re\n",
        "import numpy as np\n",
        "import matplotlib.pyplot as plt\n",
        "import pandas as pd\n",
        "import seaborn as sns\n",
        "import time\n",
        "import sys\n",
        "import csv\n",
        "import os\n",
        "\n",
        "# SK-learn libraries for learning.\n",
        "from sklearn.pipeline import Pipeline\n",
        "from sklearn.neighbors import KNeighborsClassifier\n",
        "from sklearn.linear_model import LogisticRegression\n",
        "from sklearn.naive_bayes import BernoulliNB\n",
        "from sklearn.naive_bayes import MultinomialNB\n",
        "from sklearn.model_selection import GridSearchCV\n",
        "from sklearn.datasets import fetch_openml\n",
        "from sklearn.utils import shuffle\n",
        "\n",
        "# SK-learn libraries for evaluation.\n",
        "from sklearn.metrics import confusion_matrix\n",
        "from sklearn import metrics\n",
        "from sklearn.metrics import classification_report\n",
        "\n",
        "# Theano imports\n",
        "import theano \n",
        "from theano import tensor as T\n",
        "from theano.sandbox.rng_mrg import MRG_RandomStreams as RandomStreams\n",
        "print(theano.config.device) # We're using CPUs (for now)\n",
        "print(theano.config.floatX) # Should be 64 bit for CPUs\n",
        "np.random.seed(0) # Setting random seed\n"
      ],
      "execution_count": 0,
      "outputs": [
        {
          "output_type": "stream",
          "text": [
            "cpu\n",
            "float64\n"
          ],
          "name": "stdout"
        }
      ]
    },
    {
      "cell_type": "code",
      "metadata": {
        "id": "ExLN-9AdQABB",
        "colab_type": "code",
        "outputId": "20ed202d-9780-47f8-8d53-86d31b342758",
        "colab": {
          "base_uri": "https://localhost:8080/",
          "height": 85
        }
      },
      "source": [
        "print(\"python version =\",sys.version)\n",
        "print(\"Pandas Version = \",pd.__version__)\n",
        "print(\"Numpy Version = \",np.__version__)"
      ],
      "execution_count": 0,
      "outputs": [
        {
          "output_type": "stream",
          "text": [
            "python version = 3.6.8 (default, Jan 14 2019, 11:02:34) \n",
            "[GCC 8.0.1 20180414 (experimental) [trunk revision 259383]]\n",
            "Pandas Version =  0.24.2\n",
            "Numpy Version =  1.16.4\n"
          ],
          "name": "stdout"
        }
      ]
    },
    {
      "cell_type": "code",
      "metadata": {
        "id": "v7w4tZMF-Mfy",
        "colab_type": "code",
        "outputId": "6aaefb09-9d9e-48e4-dd78-6794bbde8367",
        "colab": {
          "base_uri": "https://localhost:8080/",
          "height": 122
        }
      },
      "source": [
        "# Run this cell to mount your Google Drive - if that is where you want to access your data from\n",
        "from google.colab import drive\n",
        "drive.mount('/content/drive')\n",
        "# Make sure to upload from your local machine and then this path will work"
      ],
      "execution_count": 0,
      "outputs": [
        {
          "output_type": "stream",
          "text": [
            "Go to this URL in a browser: https://accounts.google.com/o/oauth2/auth?client_id=947318989803-6bn6qk8qdgf4n4g3pfee6491hc0brc4i.apps.googleusercontent.com&redirect_uri=urn%3Aietf%3Awg%3Aoauth%3A2.0%3Aoob&scope=email%20https%3A%2F%2Fwww.googleapis.com%2Fauth%2Fdocs.test%20https%3A%2F%2Fwww.googleapis.com%2Fauth%2Fdrive%20https%3A%2F%2Fwww.googleapis.com%2Fauth%2Fdrive.photos.readonly%20https%3A%2F%2Fwww.googleapis.com%2Fauth%2Fpeopleapi.readonly&response_type=code\n",
            "\n",
            "Enter your authorization code:\n",
            "··········\n",
            "Mounted at /content/drive\n"
          ],
          "name": "stdout"
        }
      ]
    },
    {
      "cell_type": "markdown",
      "metadata": {
        "id": "-J5l7OKPCYtt",
        "colab_type": "text"
      },
      "source": [
        "# 5. Data Import and Cleaning\n",
        " - There is a Train and Test sample in the data from Kaggle\n",
        " - We should split the Train data into Train and Dev - and optimize on Dev; Save Test for the very last step in each method.\n",
        " - Select an appropriate scoring method (per the Kaggle contest and maybe one other as well)"
      ]
    },
    {
      "cell_type": "code",
      "metadata": {
        "id": "JCyAtNMS8Lcn",
        "colab_type": "code",
        "colab": {}
      },
      "source": [
        "# Utilize a function to load and tidy up the data\n",
        "\n",
        "\n",
        "def load_data(data_type='train', columns=None):\n",
        "  \"\"\"Load the data from Kaggle.\n",
        "  If data_type = 'train', then load the train data\n",
        "  If data_type = 'dev', then load the dev data\n",
        "  If data_type = 'test', then load the test data.\n",
        "  You can also pass in a list of columns if you only want a subset\n",
        "  \"\"\"\n",
        "  \n",
        "  # Use the first 6000 records for training\n",
        "  train_data = pd.DataFrame(pd.read_csv('/content/training.csv'))[:6000]\n",
        "  \n",
        "  # And the rest for dev\n",
        "  dev_data = pd.DataFrame(pd.read_csv('/content/training.csv'))[6000:]\n",
        "  \n",
        "  # Test data\n",
        "  test_data = pd.DataFrame(pd.read_csv('/content/test.csv'))\n",
        "  \n",
        "  if data_type == 'train':\n",
        "    df = train_data\n",
        "    \n",
        "  elif data_type == 'dev':\n",
        "    df = dev_data\n",
        "    \n",
        "  elif data_type == 'test':\n",
        "    df = test_data\n",
        "    \n",
        "  else:\n",
        "    print('Something went wrong with the train/dev/test data assignment')\n",
        "    \n",
        "  # train and dev data will have labels (facial keypoints) as well as an associated image\n",
        "  # test data only has the image column\n",
        "  # the image column is a string field delimited by spaces\n",
        "  # we will split the image column and turn it into a numpy array\n",
        "  \n",
        "  # Assign the X variable to the image\n",
        "  df['Image'] = df['Image'].apply(lambda image: np.fromstring(image, sep=' '))\n",
        "  \n",
        "  # if the columns were passed in to the function\n",
        "  if columns:  \n",
        "    df = df[list(columns) + ['Image']]\n",
        "  \n",
        "  # prints the number of values for each column\n",
        "  print(\"Number of Values Each Column =\\n\",df.count())  \n",
        "\n",
        "  # drop all rows that have missing values in them\n",
        "  df = df.dropna() \n",
        "  print(\"Number of rows total after dropping missing valued data =\",df.shape[0])\n",
        "  \n",
        "  # scale pixel values to [0, 1]\n",
        "  X = np.vstack(df['Image'].values) / 255.  \n",
        "  X = X.astype(np.float32)\n",
        "  \n",
        "  # Assign y variable to labels, if applicable (i.e. if we are not using test data)\n",
        "  if data_type == 'test':\n",
        "    y = None\n",
        "  else:\n",
        "    # set y to equal all but the last column (only the labels, not the image)\n",
        "    y = df[df.columns[:-1]].values\n",
        "    # scale target coordinates to [-1, 1] - i.e. center of the image is x=y=0\n",
        "    y = (y - 48) / 48\n",
        "    # shuffle train data\n",
        "    X, y = shuffle(X, y, random_state=42)\n",
        "    y = y.astype(np.float32)\n",
        "    \n",
        "  return X, y\n",
        "  \n",
        "      "
      ],
      "execution_count": 0,
      "outputs": []
    },
    {
      "cell_type": "code",
      "metadata": {
        "id": "ak-kfLXVEo1D",
        "colab_type": "code",
        "outputId": "e680b85a-5f50-489b-c815-0fd4e1ed25c7",
        "colab": {
          "base_uri": "https://localhost:8080/",
          "height": 612
        }
      },
      "source": [
        "# get train data into X and y and print number of values in each column\n",
        "train_X, train_y = load_data(data_type = 'train')\n",
        "print(\"X shape:\",train_X.shape,\"y shape\",train_y.shape)"
      ],
      "execution_count": 0,
      "outputs": [
        {
          "output_type": "stream",
          "text": [
            "Number of Values Each Column =\n",
            " left_eye_center_x            5990\n",
            "left_eye_center_y            5990\n",
            "right_eye_center_x           5987\n",
            "right_eye_center_y           5987\n",
            "left_eye_inner_corner_x      2271\n",
            "left_eye_inner_corner_y      2271\n",
            "left_eye_outer_corner_x      2267\n",
            "left_eye_outer_corner_y      2267\n",
            "right_eye_inner_corner_x     2268\n",
            "right_eye_inner_corner_y     2268\n",
            "right_eye_outer_corner_x     2268\n",
            "right_eye_outer_corner_y     2268\n",
            "left_eyebrow_inner_end_x     2270\n",
            "left_eyebrow_inner_end_y     2270\n",
            "left_eyebrow_outer_end_x     2225\n",
            "left_eyebrow_outer_end_y     2225\n",
            "right_eyebrow_inner_end_x    2270\n",
            "right_eyebrow_inner_end_y    2270\n",
            "right_eyebrow_outer_end_x    2236\n",
            "right_eyebrow_outer_end_y    2236\n",
            "nose_tip_x                   6000\n",
            "nose_tip_y                   6000\n",
            "mouth_left_corner_x          2269\n",
            "mouth_left_corner_y          2269\n",
            "mouth_right_corner_x         2270\n",
            "mouth_right_corner_y         2270\n",
            "mouth_center_top_lip_x       2275\n",
            "mouth_center_top_lip_y       2275\n",
            "mouth_center_bottom_lip_x    5969\n",
            "mouth_center_bottom_lip_y    5969\n",
            "Image                        6000\n",
            "dtype: int64\n",
            "Number of rows total after dropping missing valued data = 2140\n",
            "X shape: (2140, 9216) y shape (2140, 30)\n"
          ],
          "name": "stdout"
        }
      ]
    },
    {
      "cell_type": "code",
      "metadata": {
        "id": "UBBy9H0I3cOM",
        "colab_type": "code",
        "outputId": "ff2df85b-6f4f-4ef4-d7cc-f655168e55f1",
        "colab": {
          "base_uri": "https://localhost:8080/",
          "height": 34
        }
      },
      "source": [
        "# Print a sample of the train data\n",
        "print(train_X[0:1,:], train_X[0:1,:].shape)"
      ],
      "execution_count": 0,
      "outputs": [
        {
          "output_type": "stream",
          "text": [
            "[[0.79607844 0.7058824  0.59607846 ... 0.11372549 0.14901961 0.17254902]] (1, 9216)\n"
          ],
          "name": "stdout"
        }
      ]
    },
    {
      "cell_type": "code",
      "metadata": {
        "id": "2tV4gDQ2OfMU",
        "colab_type": "code",
        "outputId": "d2d5aea9-7cf1-4b71-976f-0c13dedd10cb",
        "colab": {
          "base_uri": "https://localhost:8080/",
          "height": 286
        }
      },
      "source": [
        "# Print a sample X image from the above data (0 is black, 1 is white)\n",
        "img = train_X[0:1,:].reshape(96,96)\n",
        "plt.imshow(img, cmap='gray') "
      ],
      "execution_count": 0,
      "outputs": [
        {
          "output_type": "execute_result",
          "data": {
            "text/plain": [
              "<matplotlib.image.AxesImage at 0x7f3de7bf5b70>"
            ]
          },
          "metadata": {
            "tags": []
          },
          "execution_count": 31
        },
        {
          "output_type": "display_data",
          "data": {
            "image/png": "[encoded data removed]",
            "text/plain": [
              "<Figure size 432x288 with 1 Axes>"
            ]
          },
          "metadata": {
            "tags": []
          }
        }
      ]
    },
    {
      "cell_type": "code",
      "metadata": {
        "id": "2nGOriAP3mSo",
        "colab_type": "code",
        "outputId": "0207fbfa-4cd9-4952-dd1e-6191ff125e76",
        "colab": {
          "base_uri": "https://localhost:8080/",
          "height": 102
        }
      },
      "source": [
        "# Print a sample of y label data. x,y = 0,0 is the center of the image.\n",
        "keypoints_1 = train_y[0:1,:]\n",
        "print(keypoints_1,keypoints_1.shape, type(keypoints_1))"
      ],
      "execution_count": 0,
      "outputs": [
        {
          "output_type": "stream",
          "text": [
            "[[ 0.3816111  -0.21757638 -0.40208334 -0.21338195  0.21397223 -0.20919445\n",
            "   0.56600696 -0.21338195 -0.20930555 -0.2008125  -0.5739097  -0.18404861\n",
            "   0.167875   -0.37682638  0.6707778  -0.33072916 -0.16739583 -0.37263888\n",
            "  -0.70382637 -0.23852777  0.03376389  0.22246528  0.4193264   0.5116389\n",
            "  -0.38531944  0.5158264   0.02538195  0.4403889   0.03376389  0.8259514 ]] (1, 30) <class 'numpy.ndarray'>\n"
          ],
          "name": "stdout"
        }
      ]
    },
    {
      "cell_type": "code",
      "metadata": {
        "id": "ifw4swPBbc-z",
        "colab_type": "code",
        "outputId": "d17ec011-4847-459f-d17c-087ec989f74a",
        "colab": {
          "base_uri": "https://localhost:8080/",
          "height": 486
        }
      },
      "source": [
        "# print the sample image with the training 'labels' - keypoint indices marked on image.\n",
        "# process y data into 2 columns - first is x and second is y for plotting points\n",
        "keypoints_2 = keypoints_1.reshape(15,2)\n",
        "\n",
        "# we normalized the keypoint locations, but to plot we need to 'un-normalize'\n",
        "keypoints_3 = keypoints_2*48 + 48\n",
        "\n",
        "# Plot\n",
        "plt.figure(figsize=(8,8))\n",
        "plt.imshow(img,cmap='gray')\n",
        "plt.scatter(keypoints_3[:,0],keypoints_3[:,1],c='r',marker=\"x\", s=100)\n",
        "plt.show()"
      ],
      "execution_count": 0,
      "outputs": [
        {
          "output_type": "display_data",
          "data": {
            "image/png": "[encoded data removed]",
            "text/plain": [
              "<Figure size 576x576 with 1 Axes>"
            ]
          },
          "metadata": {
            "tags": []
          }
        }
      ]
    },
    {
      "cell_type": "code",
      "metadata": {
        "id": "xNPIgCdDhuGp",
        "colab_type": "code",
        "outputId": "ba947f00-a3c1-4ed1-8c30-8f9d70a790f9",
        "colab": {
          "base_uri": "https://localhost:8080/",
          "height": 486
        }
      },
      "source": [
        "# Look at variability in training data using nose tip - element 10 (x is feature 20 and y is feature 21 in the train_y matrix- indexed from 0)\n",
        "# define nose data:\n",
        "nose = train_y[:,20:22]*48+48\n",
        "plt.figure(figsize=(8,8))\n",
        "plt.imshow(img,cmap='gray')\n",
        "plt.scatter(nose[:,0],nose[:,1],edgecolors='r',marker=\"o\",facecolors='none', s=30)\n",
        "plt.show()"
      ],
      "execution_count": 0,
      "outputs": [
        {
          "output_type": "display_data",
          "data": {
            "image/png": "[encoded data removed]",
            "text/plain": [
              "<Figure size 576x576 with 1 Axes>"
            ]
          },
          "metadata": {
            "tags": []
          }
        }
      ]
    },
    {
      "cell_type": "code",
      "metadata": {
        "id": "70qU2TDw_W-v",
        "colab_type": "code",
        "colab": {}
      },
      "source": [
        "# DO Some Stats on the labels - and look at relative functions of labels with each other - which are correlated, can can we use this to our advantage for the data where labels are missing?"
      ],
      "execution_count": 0,
      "outputs": []
    },
    {
      "cell_type": "markdown",
      "metadata": {
        "id": "krq5Jk-lCfND",
        "colab_type": "text"
      },
      "source": [
        "# 6. kNN Classification & Scoring\n",
        "\n",
        "Make sure to add a commentary at the end with a summary of this section including what was done and what the result was (on Dev and Test)"
      ]
    },
    {
      "cell_type": "markdown",
      "metadata": {
        "id": "pcT1qVjhCipV",
        "colab_type": "text"
      },
      "source": [
        "# 7. Multinomial Naive Bayes Classification & Scoring\n",
        "Make sure to add a commentary at the end with a summary of this section including what was done and what the result was (on Dev and Test)"
      ]
    },
    {
      "cell_type": "markdown",
      "metadata": {
        "id": "AMU0QdgtCs-C",
        "colab_type": "text"
      },
      "source": [
        "# 8. Logistic Regression Classification & Scoring\n",
        "Make sure to add a commentary at the end with a summary of this section including what was done and what the result was (on Dev and Test)"
      ]
    },
    {
      "cell_type": "markdown",
      "metadata": {
        "id": "jyAWw-EBC1Q1",
        "colab_type": "text"
      },
      "source": [
        "# 9. Neural Net Classification & Scoring  \n",
        "\n",
        "Note - this example is from Week7 which requireds binarizing the labels before processing - not sure this is what we want.  \n",
        "Make sure to add a commentary at the end with a summary of this section including what was done and what the result was (on Dev and Test)\n",
        "\n",
        "DO: Single Layer\n",
        "Do: Two Layer\n",
        "Score Each"
      ]
    },
    {
      "cell_type": "code",
      "metadata": {
        "id": "vakj9sfvC6tM",
        "colab_type": "code",
        "colab": {}
      },
      "source": [
        "# Sample Code from Week 7 Tutorial - DON'T RUN AS IS, DATA SETS WON'T WORK\n",
        "# Single layer NN\n",
        "\n",
        "# Sample Binarization code:\n",
        "def binarizeY(data):\n",
        "    binarized_data = np.zeros((data.size,10))\n",
        "    for j in range(0,data.size):\n",
        "        feature = data[j:j+1]\n",
        "        i = feature.astype(np.int64) \n",
        "        binarized_data[j,i]=1\n",
        "    return binarized_data\n",
        "train_labels_b = binarizeY(train_labels)\n",
        "test_labels_b = binarizeY(test_labels)\n",
        "numClasses = train_labels_b[1].size\n",
        "print('Classes = %d' %(numClasses))"
      ],
      "execution_count": 0,
      "outputs": []
    },
    {
      "cell_type": "code",
      "metadata": {
        "id": "3KV8bsseFWD_",
        "colab_type": "code",
        "colab": {}
      },
      "source": [
        "## (1) Parameters \n",
        "# Initialize the weights to small, but non-zero, value\n",
        "z = (np.random.randn(*(numFeatures, numClasses))*0.01)\n",
        "print(z.shape, type(z))\n",
        "z2 = np.asarray(z)\n",
        "print(z2.shape, type(z2))\n",
        "w = theano.shared((np.random.randn(*(numFeatures, numClasses))*.01))\n",
        "print(w.ndim,type(w),type(w.get_value()))\n",
        "print(w.dtype)\n",
        "print(w.nonzero(), w.shape)"
      ],
      "execution_count": 0,
      "outputs": []
    },
    {
      "cell_type": "code",
      "metadata": {
        "id": "894pMKdeHR-b",
        "colab_type": "code",
        "colab": {}
      },
      "source": [
        "## (2) Model\n",
        "# Theano objects accessed with standard Python variables\n",
        "# using Softmax - i.e. basically just a multi-class version of sigmoid activation\n",
        "X = T.matrix()\n",
        "Y = T.matrix()\n",
        "\n",
        "def model(X, w):\n",
        "    return T.nnet.softmax(T.dot(X, w))\n",
        "y_hat = model(X, w)\n",
        "print(y_hat,y_hat.dtype, y_hat.ndim, type(y_hat))"
      ],
      "execution_count": 0,
      "outputs": []
    },
    {
      "cell_type": "code",
      "metadata": {
        "id": "NdwQ9H4DHdp-",
        "colab_type": "code",
        "colab": {}
      },
      "source": [
        "## (3) Cost function\n",
        "cost = T.mean(T.nnet.categorical_crossentropy(y_hat, Y))\n",
        "print(cost, cost.dtype, cost.ndim, type(cost))"
      ],
      "execution_count": 0,
      "outputs": []
    },
    {
      "cell_type": "code",
      "metadata": {
        "id": "1Qgi3AjrHjDA",
        "colab_type": "code",
        "colab": {}
      },
      "source": [
        "## (4) Objective (and solver)\n",
        "\n",
        "alpha = 0.01\n",
        "gradient = T.grad(cost=cost, wrt=w) \n",
        "update = [[w, w - gradient * alpha]] \n",
        "train = theano.function(inputs=[X, Y], outputs=cost, updates=update, allow_input_downcast=True) # computes cost, then runs update\n",
        "y_pred = T.argmax(y_hat, axis=1) # select largest probability as prediction\n",
        "predict = theano.function(inputs=[X], outputs=y_pred, allow_input_downcast=True)\n",
        "\n",
        "def gradientDescent(epochs):\n",
        "    trainTime = 0.0\n",
        "    predictTime = 0.0\n",
        "    for i in range(epochs):\n",
        "        start_time = time.time()\n",
        "        cost = train(train_data[0:len(train_data)], train_labels_b[0:len(train_data)])\n",
        "        trainTime =  trainTime + (time.time() - start_time)\n",
        "        print('%d) accuracy = %.4f' %(i+1, np.mean(np.argmax(test_labels_b, axis=1) == predict(test_data))))\n",
        "    print('train time = %.2f' %(trainTime))\n",
        "\n",
        "gradientDescent(50)\n",
        "\n",
        "start_time = time.time()\n",
        "predict(test_data)   \n",
        "print('predict time = %.2f' %(time.time() - start_time))"
      ],
      "execution_count": 0,
      "outputs": []
    },
    {
      "cell_type": "markdown",
      "metadata": {
        "id": "ij12Ju3NHs6K",
        "colab_type": "text"
      },
      "source": [
        "Next Steps - do some/all/none of the following:\n",
        "- Try Stochastic and Mini-Batch \n",
        "- Try 2 and 3 layer models\n",
        "- Try using a different activation - like rectifier and/or max pooling\n",
        "- Try adding noise (like Dropouts) - can increase generalization and training speeds"
      ]
    },
    {
      "cell_type": "markdown",
      "metadata": {
        "id": "sCXn5fPUIK7j",
        "colab_type": "text"
      },
      "source": [
        "# 10. Convolutional Neural Net (CNN or ConvoNet)\n",
        "\n",
        "**FINALLY**: *Convolutional NN*\n",
        "\n",
        "- This is likely the prize - developed for image processing\n",
        "- Need to reprocess data - uses 2D images (not 1D)\n",
        "- Go to last section of Week7 Tutorial for code on Convolutional NNs\n",
        "- Possibly do a generative model to create images and further train the network (e.g. by mirroring the faces - so making 2 faces out of one)"
      ]
    },
    {
      "cell_type": "markdown",
      "metadata": {
        "id": "adQrLjkYIz7O",
        "colab_type": "text"
      },
      "source": [
        "# 10. Conclusions  \n",
        "\n",
        "Make sure to write up summary of different methods, results based on Dev and then on Test (maybe present in table). "
      ]
    }
  ]
}